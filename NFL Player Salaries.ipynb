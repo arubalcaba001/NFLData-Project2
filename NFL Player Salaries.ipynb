{
 "cells": [
  {
   "cell_type": "markdown",
   "metadata": {},
   "source": [
    "### NFL PLayer Salaries"
   ]
  },
  {
   "cell_type": "code",
   "execution_count": 22,
   "metadata": {},
   "outputs": [],
   "source": [
    "import pandas as pd\n",
    "from sqlalchemy import create_engine"
   ]
  },
  {
   "cell_type": "code",
   "execution_count": 23,
   "metadata": {},
   "outputs": [],
   "source": [
    "source = \"PlayerSalaries.csv\"\n",
    "data = pd.read_csv(source)\n",
    "#data.head()"
   ]
  },
  {
   "cell_type": "code",
   "execution_count": 25,
   "metadata": {},
   "outputs": [
    {
     "data": {
      "text/html": [
       "<div>\n",
       "<style scoped>\n",
       "    .dataframe tbody tr th:only-of-type {\n",
       "        vertical-align: middle;\n",
       "    }\n",
       "\n",
       "    .dataframe tbody tr th {\n",
       "        vertical-align: top;\n",
       "    }\n",
       "\n",
       "    .dataframe thead th {\n",
       "        text-align: right;\n",
       "    }\n",
       "</style>\n",
       "<table border=\"1\" class=\"dataframe\">\n",
       "  <thead>\n",
       "    <tr style=\"text-align: right;\">\n",
       "      <th></th>\n",
       "      <th>First Name</th>\n",
       "      <th>Last Name</th>\n",
       "      <th>Team</th>\n",
       "      <th>Salary</th>\n",
       "    </tr>\n",
       "  </thead>\n",
       "  <tbody>\n",
       "    <tr>\n",
       "      <th>0</th>\n",
       "      <td>Kirk</td>\n",
       "      <td>Cousins</td>\n",
       "      <td>MIN</td>\n",
       "      <td>$22,500,000</td>\n",
       "    </tr>\n",
       "    <tr>\n",
       "      <th>1</th>\n",
       "      <td>Demarcus</td>\n",
       "      <td>Lawrence</td>\n",
       "      <td>DAL</td>\n",
       "      <td>$17,143,000</td>\n",
       "    </tr>\n",
       "    <tr>\n",
       "      <th>2</th>\n",
       "      <td>Ezekiel</td>\n",
       "      <td>Ansah</td>\n",
       "      <td>DET</td>\n",
       "      <td>$17,143,000</td>\n",
       "    </tr>\n",
       "    <tr>\n",
       "      <th>3</th>\n",
       "      <td>Russell</td>\n",
       "      <td>Wilson</td>\n",
       "      <td>SEA</td>\n",
       "      <td>$15,500,000</td>\n",
       "    </tr>\n",
       "    <tr>\n",
       "      <th>4</th>\n",
       "      <td>Calais</td>\n",
       "      <td>Campbell</td>\n",
       "      <td>JAX</td>\n",
       "      <td>$15,000,000</td>\n",
       "    </tr>\n",
       "  </tbody>\n",
       "</table>\n",
       "</div>"
      ],
      "text/plain": [
       "  First Name Last Name Team        Salary\n",
       "0       Kirk   Cousins  MIN  $22,500,000 \n",
       "1   Demarcus  Lawrence  DAL  $17,143,000 \n",
       "2    Ezekiel     Ansah  DET  $17,143,000 \n",
       "3    Russell    Wilson  SEA  $15,500,000 \n",
       "4     Calais  Campbell  JAX  $15,000,000 "
      ]
     },
     "execution_count": 25,
     "metadata": {},
     "output_type": "execute_result"
    }
   ],
   "source": [
    "#get rid of rank column\n",
    "clean = data.drop(columns=[\"Rank\"])\n",
    "clean.head()"
   ]
  },
  {
   "cell_type": "code",
   "execution_count": 26,
   "metadata": {},
   "outputs": [],
   "source": [
    "#Tranform premise: make sure the column names from dataframe match the ones in the mysql DATABASE"
   ]
  },
  {
   "cell_type": "code",
   "execution_count": null,
   "metadata": {},
   "outputs": [],
   "source": [
    "# #create a database connection\n",
    "# connection_name = \"root:root@127.0.0.1/DATABASENAME\"\n",
    "# engine = create_engine(f'mysql+pymysql://{_connection_name}')\n",
    "\n",
    "# # Confirm tables\n",
    "# engine.table_names()\n",
    "\n",
    "# #load dataframes into DATABASE\n",
    "# #replace will drop table before replacing\n",
    "# df.to_sql(name='tablename', con=engine, if_exists='replace', index=False)\n",
    "# #append will add new\n",
    "# df.to_sql(name='tablename', con=engine, if_exists='append', index=False)\n"
   ]
  }
 ],
 "metadata": {
  "kernelspec": {
   "display_name": "Python 3",
   "language": "python",
   "name": "python3"
  },
  "language_info": {
   "codemirror_mode": {
    "name": "ipython",
    "version": 3
   },
   "file_extension": ".py",
   "mimetype": "text/x-python",
   "name": "python",
   "nbconvert_exporter": "python",
   "pygments_lexer": "ipython3",
   "version": "3.7.0"
  }
 },
 "nbformat": 4,
 "nbformat_minor": 2
}
