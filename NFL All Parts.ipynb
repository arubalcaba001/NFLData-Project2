{
 "cells": [
  {
   "cell_type": "markdown",
   "metadata": {},
   "source": [
    "# NFL Player Data Base Extraction"
   ]
  },
  {
   "cell_type": "code",
   "execution_count": 3,
   "metadata": {},
   "outputs": [],
   "source": [
    "import pandas as pd\n",
    "from sqlalchemy import create_engine"
   ]
  },
  {
   "cell_type": "code",
   "execution_count": 5,
   "metadata": {},
   "outputs": [],
   "source": [
    "NFLPlayer2018_Data = \"Data/2018NFLPlayerStatistics.csv\"\n",
    "NFLPlayer2018_df = pd.read_csv(NFLPlayer2018_Data)\n"
   ]
  },
  {
   "cell_type": "markdown",
   "metadata": {},
   "source": [
    "# Player Transformation"
   ]
  },
  {
   "cell_type": "code",
   "execution_count": 6,
   "metadata": {},
   "outputs": [],
   "source": [
    "#Dropping Nan from NFLPayer2018_df\n",
    "NFLPlayer2018_df=NFLPlayer2018_df.fillna(value=0)\n"
   ]
  },
  {
   "cell_type": "code",
   "execution_count": 7,
   "metadata": {},
   "outputs": [],
   "source": [
    "#Player Information \n",
    "player_info_df=NFLPlayer2018_df[['Player', 'Player.1', 'Player.2','Player.3','Player.5']]\n",
    "\n",
    "#Change header\n",
    "header=player_info_df.iloc[0]\n",
    "player_info_df=player_info_df[1:]\n",
    "player_info_df.columns=header\n",
    "\n",
    "#Rename Columns\n",
    "player_data=player_info_df.rename(columns = {'Rk':'Rank','Tm':'Team'})\n"
   ]
  },
  {
   "cell_type": "code",
   "execution_count": 8,
   "metadata": {},
   "outputs": [],
   "source": [
    "#Player and Game database\n",
    "\n",
    "player_game_df=NFLPlayer2018_df[['Player', 'Player.1','Player.2', 'Player.3','Games', 'Games.1']]\n",
    "\n",
    "#Change header\n",
    "header2=player_game_df.iloc[0]\n",
    "player_game_df=player_game_df[1:]\n",
    "player_game_df.columns=header2\n",
    "\n",
    "#Rename Columns\n",
    "player_game_data=player_game_df.rename(columns = {'Rk':'Rank','Tm':'Team'})\n",
    "\n"
   ]
  },
  {
   "cell_type": "code",
   "execution_count": 9,
   "metadata": {},
   "outputs": [],
   "source": [
    "#Player and Game database\n",
    "\n",
    "player_passing_df=NFLPlayer2018_df[['Player', 'Player.1','Player.2', 'Player.3','Passing', 'Passing.1','Passing.2', 'Passing.3', 'Passing.4' ]]\n",
    "\n",
    "#Change header\n",
    "header3=player_passing_df.iloc[0]\n",
    "player_passing_df=player_passing_df[1:]\n",
    "player_passing_df.columns=header3\n",
    "\n",
    "#Rename Columns\n",
    "player_passing_data=player_passing_df.rename(columns = {'Rk':'Rank','Tm':'Team'})\n",
    "\n"
   ]
  },
  {
   "cell_type": "code",
   "execution_count": 10,
   "metadata": {},
   "outputs": [],
   "source": [
    "#Player and receiving\n",
    "player_rushing_df=NFLPlayer2018_df[['Player', 'Player.1','Player.2', 'Player.3','Rushing', 'Rushing.1','Rushing.2', 'Rushing.3' ]]\n",
    "\n",
    "#Change header\n",
    "header4=player_rushing_df.iloc[0]\n",
    "player_rushing_df=player_rushing_df[1:]\n",
    "player_rushing_df.columns=header4\n",
    "\n",
    "#Rename Columns\n",
    "player_rushing_data=player_rushing_df.rename(columns = {'Rk':'Rank','Tm':'Team'})\n",
    "\n"
   ]
  },
  {
   "cell_type": "code",
   "execution_count": 11,
   "metadata": {},
   "outputs": [],
   "source": [
    "#Player and receiving\n",
    "player_receiving_df=NFLPlayer2018_df[['Player', 'Player.1','Player.2', 'Player.3','Receiving', 'Receiving.1','Receiving.2', 'Receiving.3' ]]\n",
    "\n",
    "#Change header\n",
    "header5=player_receiving_df.iloc[0]\n",
    "player_receiving_df=player_receiving_df[1:]\n",
    "player_receiving_df.columns=header5\n",
    "\n",
    "#Rename Columns\n",
    "player_receiving_data=player_receiving_df.rename(columns = {'Rk':'Rank','Tm':'Team'})\n",
    "\n"
   ]
  },
  {
   "cell_type": "code",
   "execution_count": 12,
   "metadata": {},
   "outputs": [],
   "source": [
    "#Player and fumbles\n",
    "player_fumbles_df=NFLPlayer2018_df[['Player', 'Player.1','Player.2', 'Player.3','Fumbles', 'Fumbles.1']]\n",
    "\n",
    "#Change header\n",
    "header6=player_fumbles_df.iloc[0]\n",
    "player_fumbles_df=player_fumbles_df[1:]\n",
    "player_fumbles_df.columns=header6\n",
    "\n",
    "#Rename Columns\n",
    "player_fumbles_data=player_fumbles_df.rename(columns = {'Rk':'Rank','Tm':'Team'})\n"
   ]
  },
  {
   "cell_type": "code",
   "execution_count": 13,
   "metadata": {},
   "outputs": [],
   "source": [
    "#Player and scoring\n",
    "player_scoring_df=NFLPlayer2018_df[['Player', 'Player.1','Player.2', 'Player.3','Scoring', 'Scoring.1']]\n",
    "\n",
    "#Change header\n",
    "header7=player_scoring_df.iloc[0]\n",
    "player_scoring_df=player_scoring_df[1:]\n",
    "player_scoring_df.columns=header7\n",
    "\n",
    "#Rename Columns\n",
    "player_scoring_data=player_scoring_df.rename(columns = {'Rk':'Rank','Tm':'Team'})\n",
    "\n"
   ]
  },
  {
   "cell_type": "markdown",
   "metadata": {},
   "source": [
    "# NFL SALARY"
   ]
  },
  {
   "cell_type": "code",
   "execution_count": 14,
   "metadata": {},
   "outputs": [],
   "source": [
    "NFLPlayerSalaries = \"Data/PlayerSalaries.csv\"\n",
    "PlayerSalariesdf = pd.read_csv(NFLPlayerSalaries)"
   ]
  },
  {
   "cell_type": "code",
   "execution_count": 15,
   "metadata": {},
   "outputs": [],
   "source": [
    "NFLPlayer2018_df['Full Name']=NFLPlayer2018_df['Player.1'].str.cat(NFLPlayer2018_df['Player.2'],sep=' ')\n"
   ]
  },
  {
   "cell_type": "code",
   "execution_count": 16,
   "metadata": {},
   "outputs": [],
   "source": [
    "PlayerSalariesdf['Full Name']=PlayerSalariesdf['First Name'].str.cat(PlayerSalariesdf['Last Name'],sep=' ')\n"
   ]
  },
  {
   "cell_type": "code",
   "execution_count": 17,
   "metadata": {},
   "outputs": [],
   "source": [
    "salaries2018_df = pd.merge(NFLPlayer2018_df, PlayerSalariesdf, on='Full Name')"
   ]
  },
  {
   "cell_type": "code",
   "execution_count": 43,
   "metadata": {},
   "outputs": [],
   "source": [
    "player_salary_data=salaries2018_df[['First Name', 'Last Name', 'Team', 'Salary']]"
   ]
  },
  {
   "cell_type": "markdown",
   "metadata": {},
   "source": [
    "# TEAM DATA"
   ]
  },
  {
   "cell_type": "code",
   "execution_count": 19,
   "metadata": {},
   "outputs": [],
   "source": [
    "csv_file = \"Data/sportsref_download_AFC_2018.csv\"\n",
    "AFC_df = pd.read_csv(csv_file)\n",
    "\n",
    "csv_file = \"Data/sportsref_download_NFC_2018.csv\"\n",
    "NFC_df = pd.read_csv(csv_file)"
   ]
  },
  {
   "cell_type": "code",
   "execution_count": 21,
   "metadata": {},
   "outputs": [],
   "source": [
    "team_df = AFC_df.append(NFC_df)\n",
    "team_df = team_df.reset_index(drop=True)"
   ]
  },
  {
   "cell_type": "code",
   "execution_count": 22,
   "metadata": {},
   "outputs": [],
   "source": [
    "team_df = team_df.rename(columns = {\"Tm\":\"Team\"})"
   ]
  },
  {
   "cell_type": "code",
   "execution_count": 23,
   "metadata": {},
   "outputs": [],
   "source": [
    "team_df[\"Tm\"] = [\"NE\",\"MIA\",\"BUF\",\"NYJ\",\"BAL\",\"PIT\",\"CLE\",\"CIN\",\"HOU\",\"IND\",\"TEN\",\"JAX\",\"KC\",\"LAC\",\"DEN\",\"OAK\",\"DAL\",\n",
    "                 \"PHI\",\"WAS\",\"NYG\",\"CHI\",\"MIN\",\"GB\",\"DET\",\"NO\",\"CAR\",\"ALT\",\"TB\",\"LAR\",\"SEA\",\"SF\",\"ARI\"]\n"
   ]
  },
  {
   "cell_type": "code",
   "execution_count": null,
   "metadata": {},
   "outputs": [],
   "source": [
    "team_df.columns"
   ]
  },
  {
   "cell_type": "code",
   "execution_count": 24,
   "metadata": {},
   "outputs": [],
   "source": [
    "team_df = team_df[['Team', 'Tm', 'W', 'L', 'T', 'W-L%', 'PF', 'PA', 'PD', 'MoV', 'SoS', 'SRS',\n",
    "       'OSRS', 'DSRS']]"
   ]
  },
  {
   "cell_type": "markdown",
   "metadata": {},
   "source": [
    "# NFL Player Load"
   ]
  },
  {
   "cell_type": "code",
   "execution_count": 1,
   "metadata": {},
   "outputs": [
    {
     "ename": "NameError",
     "evalue": "name 'player_data' is not defined",
     "output_type": "error",
     "traceback": [
      "\u001b[1;31m---------------------------------------------------------------------------\u001b[0m",
      "\u001b[1;31mNameError\u001b[0m                                 Traceback (most recent call last)",
      "\u001b[1;32m<ipython-input-1-0879ab1692fb>\u001b[0m in \u001b[0;36m<module>\u001b[1;34m()\u001b[0m\n\u001b[1;32m----> 1\u001b[1;33m \u001b[0mplayer_data\u001b[0m\u001b[1;33m.\u001b[0m\u001b[0mto_sql\u001b[0m\u001b[1;33m(\u001b[0m\u001b[0mname\u001b[0m\u001b[1;33m=\u001b[0m\u001b[1;34m'player_info'\u001b[0m\u001b[1;33m,\u001b[0m \u001b[0mcon\u001b[0m\u001b[1;33m=\u001b[0m\u001b[0mengine\u001b[0m\u001b[1;33m,\u001b[0m \u001b[0mif_exists\u001b[0m\u001b[1;33m=\u001b[0m\u001b[1;34m'append'\u001b[0m\u001b[1;33m,\u001b[0m \u001b[0mindex\u001b[0m\u001b[1;33m=\u001b[0m\u001b[1;32mTrue\u001b[0m\u001b[1;33m)\u001b[0m\u001b[1;33m\u001b[0m\u001b[1;33m\u001b[0m\u001b[0m\n\u001b[0m\u001b[0;32m      2\u001b[0m \u001b[0mplayer_game_data\u001b[0m\u001b[1;33m.\u001b[0m\u001b[0mto_sql\u001b[0m\u001b[1;33m(\u001b[0m\u001b[0mname\u001b[0m\u001b[1;33m=\u001b[0m\u001b[1;34m'player_game'\u001b[0m\u001b[1;33m,\u001b[0m \u001b[0mcon\u001b[0m\u001b[1;33m=\u001b[0m\u001b[0mengine\u001b[0m\u001b[1;33m,\u001b[0m \u001b[0mif_exists\u001b[0m\u001b[1;33m=\u001b[0m\u001b[1;34m'append'\u001b[0m\u001b[1;33m,\u001b[0m \u001b[0mindex\u001b[0m\u001b[1;33m=\u001b[0m\u001b[1;32mTrue\u001b[0m\u001b[1;33m)\u001b[0m\u001b[1;33m\u001b[0m\u001b[1;33m\u001b[0m\u001b[0m\n\u001b[0;32m      3\u001b[0m \u001b[0mplayer_passing_data\u001b[0m\u001b[1;33m.\u001b[0m\u001b[0mto_sql\u001b[0m\u001b[1;33m(\u001b[0m\u001b[0mname\u001b[0m\u001b[1;33m=\u001b[0m\u001b[1;34m'player_passing'\u001b[0m\u001b[1;33m,\u001b[0m \u001b[0mcon\u001b[0m\u001b[1;33m=\u001b[0m\u001b[0mengine\u001b[0m\u001b[1;33m,\u001b[0m \u001b[0mif_exists\u001b[0m\u001b[1;33m=\u001b[0m\u001b[1;34m'append'\u001b[0m\u001b[1;33m,\u001b[0m \u001b[0mindex\u001b[0m\u001b[1;33m=\u001b[0m\u001b[1;32mTrue\u001b[0m\u001b[1;33m)\u001b[0m\u001b[1;33m\u001b[0m\u001b[1;33m\u001b[0m\u001b[0m\n\u001b[0;32m      4\u001b[0m \u001b[0mplayer_rushing_data\u001b[0m\u001b[1;33m.\u001b[0m\u001b[0mto_sql\u001b[0m\u001b[1;33m(\u001b[0m\u001b[0mname\u001b[0m\u001b[1;33m=\u001b[0m\u001b[1;34m'player_rushing'\u001b[0m\u001b[1;33m,\u001b[0m \u001b[0mcon\u001b[0m\u001b[1;33m=\u001b[0m\u001b[0mengine\u001b[0m\u001b[1;33m,\u001b[0m \u001b[0mif_exists\u001b[0m\u001b[1;33m=\u001b[0m\u001b[1;34m'append'\u001b[0m\u001b[1;33m,\u001b[0m \u001b[0mindex\u001b[0m\u001b[1;33m=\u001b[0m\u001b[1;32mTrue\u001b[0m\u001b[1;33m)\u001b[0m\u001b[1;33m\u001b[0m\u001b[1;33m\u001b[0m\u001b[0m\n\u001b[0;32m      5\u001b[0m \u001b[0mplayer_receiving_data\u001b[0m\u001b[1;33m.\u001b[0m\u001b[0mto_sql\u001b[0m\u001b[1;33m(\u001b[0m\u001b[0mname\u001b[0m\u001b[1;33m=\u001b[0m\u001b[1;34m'player_receiving'\u001b[0m\u001b[1;33m,\u001b[0m \u001b[0mcon\u001b[0m\u001b[1;33m=\u001b[0m\u001b[0mengine\u001b[0m\u001b[1;33m,\u001b[0m \u001b[0mif_exists\u001b[0m\u001b[1;33m=\u001b[0m\u001b[1;34m'append'\u001b[0m\u001b[1;33m,\u001b[0m \u001b[0mindex\u001b[0m\u001b[1;33m=\u001b[0m\u001b[1;32mTrue\u001b[0m\u001b[1;33m)\u001b[0m\u001b[1;33m\u001b[0m\u001b[1;33m\u001b[0m\u001b[0m\n",
      "\u001b[1;31mNameError\u001b[0m: name 'player_data' is not defined"
     ]
    }
   ],
   "source": [
    "player_data.to_sql(name='player_info', con=engine, if_exists='append', index=True)\n",
    "player_game_data.to_sql(name='player_game', con=engine, if_exists='append', index=True)\n",
    "player_passing_data.to_sql(name='player_passing', con=engine, if_exists='append', index=True)\n",
    "player_rushing_data.to_sql(name='player_rushing', con=engine, if_exists='append', index=True)\n",
    "player_receiving_data.to_sql(name='player_receiving', con=engine, if_exists='append', index=True)\n",
    "player_fumbles_data.to_sql(name='player_fumbles', con=engine, if_exists='append', index=True)\n",
    "player_scoring_data.to_sql(name='player_scoring', con=engine, if_exists='append', index=True)\n",
    "player_salary_data.to_sql(name='player_salary', con=engine, if_exists='append', index=True)"
   ]
  }
 ],
 "metadata": {
  "kernelspec": {
   "display_name": "Python 3",
   "language": "python",
   "name": "python3"
  },
  "language_info": {
   "codemirror_mode": {
    "name": "ipython",
    "version": 3
   },
   "file_extension": ".py",
   "mimetype": "text/x-python",
   "name": "python",
   "nbconvert_exporter": "python",
   "pygments_lexer": "ipython3",
   "version": "3.7.2"
  }
 },
 "nbformat": 4,
 "nbformat_minor": 2
}
